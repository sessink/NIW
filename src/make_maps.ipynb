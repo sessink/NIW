{
 "cells": [
  {
   "cell_type": "code",
   "execution_count": 2,
   "metadata": {},
   "outputs": [],
   "source": [
    "import os,glob\n",
    "import numpy as np\n",
    "import pandas as pd\n",
    "import matplotlib.pyplot as plt\n",
    "import xarray as xr\n",
    "import matplotlib as mpl\n",
    "import seaborn as sns"
   ]
  },
  {
   "cell_type": "code",
   "execution_count": 3,
   "metadata": {},
   "outputs": [],
   "source": [
    "# mapping\n",
    "import cartopy.crs as ccrs\n",
    "from cartopy.mpl.gridliner import LONGITUDE_FORMATTER, LATITUDE_FORMATTER\n",
    "import cartopy.feature as cfeature"
   ]
  },
  {
   "cell_type": "code",
   "execution_count": 4,
   "metadata": {},
   "outputs": [],
   "source": [
    "#mpl.rcParams.keys()\n",
    "# project_path = '/Users/sebastian/Dropbox (MIT)/postdoc/'\n",
    "sns.set(style='ticks',context='paper')\n",
    "mpl.rc('figure', dpi=120, figsize=[10,5])\n",
    "mpl.rc('savefig',dpi=500,bbox='tight',directory=os.path.join(project_path,'figures'))\n",
    "mpl.rc('legend',frameon=False)"
   ]
  },
  {
   "cell_type": "code",
   "execution_count": 155,
   "metadata": {},
   "outputs": [
    {
     "name": "stdout",
     "output_type": "stream",
     "text": [
      "a\n",
      "b\n"
     ]
    }
   ],
   "source": [
    "f,ax=plt.subplots(1,1)\n",
    "ax = plt.axes(projection=ccrs.PlateCarree())\n",
    "img_extent = [140, 162, 34, 45]\n",
    "ax.set_extent(img_extent, crs=ccrs.PlateCarree())\n",
    "\n",
    "from itertools import count\n",
    "c = count()\n",
    "for file in glob.glob(project_path+data_path+f'*{let}.nc'):\n",
    "    dat = xr.open_dataset(file)\n",
    "    ax.plot(dat.lon,dat.lat,lw=2,label=dat.floatid)\n",
    "    ax.set(ylabel='Latitude',\n",
    "       xlabel='Longitude')\n",
    "ax.set_title(f'Deployment {letter.upper()}')\n",
    "plt.legend(bbox_to_anchor=(1.08, 1),title='Floats')\n",
    "\n",
    "gl = ax.gridlines(crs=ccrs.PlateCarree(), draw_labels=True,\n",
    "                  linewidth=0.1, alpha=1, linestyle='-')\n",
    "gl.xlabels_top = False\n",
    "gl.ylabels_left = False\n",
    "gl.xformatter = LONGITUDE_FORMATTER\n",
    "gl.yformatter = LATITUDE_FORMATTER\n",
    "\n",
    "cmap = plt.get_cmap('Blues')\n",
    "norm = plt.Normalize(0, 10000)\n",
    "for letter, level in [\n",
    "                      ('L', 0),\n",
    "                      ('K', 200),\n",
    "                      ('J', 1000),\n",
    "                      ('I', 2000),\n",
    "                      ('H', 3000),\n",
    "                      ('G', 4000),\n",
    "                      ('F', 5000),\n",
    "                      ('E', 6000),\n",
    "                      ('D', 7000),\n",
    "                      ('C', 8000),\n",
    "                      ('B', 9000),\n",
    "                      ('A', 10000)]:\n",
    "    bathym = cfeature.NaturalEarthFeature(name='bathymetry_{}_{}'.format(letter, level),\n",
    "                                 scale='10m', category='physical')\n",
    "    ax.add_feature(bathym, facecolor=cmap(norm(level)), edgecolor='face')\n",
    "\n",
    "ax.add_feature(cfeature.LAND)\n",
    "gshhs = cfeature.GSHHSFeature(scale='i', levels=None)\n",
    "ax.add_feature(gshhs)\n",
    "ax.text(142.2, 43.5, 'Hokkaido', transform=ccrs.PlateCarree())\n",
    "ax.text(140.4, 39.7, 'Honshu', transform=ccrs.PlateCarree())\n",
    "# ax.gridlines()\n",
    "plt.savefig(project_path+f'/figures/float_trajectories.pdf')\n",
    "plt.close()"
   ]
  }
 ],
 "metadata": {
  "kernelspec": {
   "display_name": "Python 3",
   "language": "python",
   "name": "python3"
  },
  "language_info": {
   "codemirror_mode": {
    "name": "ipython",
    "version": 3
   },
   "file_extension": ".py",
   "mimetype": "text/x-python",
   "name": "python",
   "nbconvert_exporter": "python",
   "pygments_lexer": "ipython3",
   "version": "3.6.8"
  }
 },
 "nbformat": 4,
 "nbformat_minor": 2
}
