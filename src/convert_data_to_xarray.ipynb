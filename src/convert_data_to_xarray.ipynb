{
 "cells": [
  {
   "cell_type": "markdown",
   "metadata": {},
   "source": [
    "### Read float matlab files and convert them to xarray"
   ]
  },
  {
   "cell_type": "code",
   "execution_count": 1,
   "metadata": {},
   "outputs": [],
   "source": [
    "import os,glob\n",
    "import numpy as np\n",
    "import pandas as pd\n",
    "import xarray as xr\n",
    "import scipy.io as sio\n",
    "import gsw\n",
    "from datetime import datetime,timedelta"
   ]
  },
  {
   "cell_type": "code",
   "execution_count": 66,
   "metadata": {},
   "outputs": [],
   "source": [
    "def load_matfile(file):\n",
    "    '''Read Matlab structure files and convert to numpy arrays'''\n",
    "    return sio.loadmat(file,struct_as_record=True,squeeze_me=True)\n",
    "\n",
    "def datenum2datetime(datenum):\n",
    "    '''Convert Matlab datenum to Python Datetime'''\n",
    "    return datetime.fromordinal(int(datenum)) + timedelta(days=datenum%1) - timedelta(days = 366)\n",
    "\n",
    "# vecturize datenum2datetime\n",
    "dn2dt_vec = np.vectorize(lambda x: datenum2datetime(x))\n",
    "\n",
    "def save_as_xr(floatfile,ab):\n",
    "    '''Read float files, compose xarray dataset, convert variables, and save as netcdf\n",
    "    \n",
    "    last updated: april 11, 2019\n",
    "    '''\n",
    "    a = load_file(floatfile)\n",
    "    \n",
    "    # compose dataset object\n",
    "    ds = xr.Dataset({ # define wanted variables here!\n",
    "        'sigma': (['z','time'],a['A']['Sigma'].flatten()[0]-1000), \n",
    "        'n2': (['z','time'],a['A']['N2'].flatten()[0])},\n",
    "        \n",
    "        coords = {'pressure':(['z'],a['A']['Pr'].flatten()[0].astype(float)),\n",
    "                  'z': a['A']['Pr'].flatten()[0].astype(float),\n",
    "                  'lat':(['time'],a['A']['lat'].flatten()[0]),\n",
    "                  'lon':(['time'],a['A']['lon'].flatten()[0]),\n",
    "                  'time':a['A']['Jday_gmt'].flatten()[0].astype(float)},\n",
    "        \n",
    "        attrs= {'floatid':a['A']['float'].flatten()[0]}\n",
    "    )\n",
    "    # remove nans\n",
    "    ds = ds.dropna(dim='time',how='all')\n",
    "    # convert to datetime\n",
    "    ds.assign_coords(time=(dn2dt_vec(ds.time)))\n",
    "    # comvert pressure to depth\n",
    "    ds.assign_coords(z=(gsw.z_from_p(ds.z,ds.lat.mean()).astype(float)))\n",
    "    # save as netcdf\n",
    "    ds.to_netcdf(project_path+f\"/data/xarray/xr_float_grid_{ds.attrs['floatid']}{ab}.nc\" )"
   ]
  },
  {
   "cell_type": "markdown",
   "metadata": {},
   "source": [
    "There are 6 floats in 2016 and 7 floats in 2017."
   ]
  },
  {
   "cell_type": "markdown",
   "metadata": {},
   "source": [
    "#### Process files and write netcdf"
   ]
  },
  {
   "cell_type": "code",
   "execution_count": null,
   "metadata": {},
   "outputs": [],
   "source": [
    "project_path = '/Users/sebastian/Dropbox (MIT)/postdoc/'"
   ]
  },
  {
   "cell_type": "code",
   "execution_count": 105,
   "metadata": {},
   "outputs": [
    {
     "name": "stdout",
     "output_type": "stream",
     "text": [
      "/Users/sebastian/Dropbox (MIT)/postdoc/data/NIWmatdata/7786a_grid.mat\n",
      "/Users/sebastian/Dropbox (MIT)/postdoc/data/NIWmatdata/7781a_grid.mat\n",
      "/Users/sebastian/Dropbox (MIT)/postdoc/data/NIWmatdata/7787a_grid.mat\n",
      "/Users/sebastian/Dropbox (MIT)/postdoc/data/NIWmatdata/7783a_grid.mat\n",
      "/Users/sebastian/Dropbox (MIT)/postdoc/data/NIWmatdata/7779a_grid.mat\n",
      "/Users/sebastian/Dropbox (MIT)/postdoc/data/NIWmatdata/7788a_grid.mat\n",
      "/Users/sebastian/Dropbox (MIT)/postdoc/data/NIWmatdata/7784b_grid.mat\n",
      "/Users/sebastian/Dropbox (MIT)/postdoc/data/NIWmatdata/7782b_grid.mat\n",
      "/Users/sebastian/Dropbox (MIT)/postdoc/data/NIWmatdata/7785b_grid.mat\n",
      "/Users/sebastian/Dropbox (MIT)/postdoc/data/NIWmatdata/7786b_grid.mat\n",
      "/Users/sebastian/Dropbox (MIT)/postdoc/data/NIWmatdata/7700b_grid.mat\n",
      "/Users/sebastian/Dropbox (MIT)/postdoc/data/NIWmatdata/7780b_grid.mat\n",
      "/Users/sebastian/Dropbox (MIT)/postdoc/data/NIWmatdata/7701b_grid.mat\n"
     ]
    }
   ],
   "source": [
    "for sub in ['a','b']: # loop over two experiments\n",
    "    floatfiles = glob.glob(project_path+f'data/NIWmatdata/*[{sub}]_grid.mat')\n",
    "    for file in floatfiles:\n",
    "        print(file)\n",
    "        save_as_xr(file,sub)"
   ]
  }
 ],
 "metadata": {
  "kernelspec": {
   "display_name": "Python 3",
   "language": "python",
   "name": "python3"
  },
  "language_info": {
   "codemirror_mode": {
    "name": "ipython",
    "version": 3
   },
   "file_extension": ".py",
   "mimetype": "text/x-python",
   "name": "python",
   "nbconvert_exporter": "python",
   "pygments_lexer": "ipython3",
   "version": "3.6.8"
  }
 },
 "nbformat": 4,
 "nbformat_minor": 2
}
