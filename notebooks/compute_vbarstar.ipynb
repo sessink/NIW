{
 "cells": [
  {
   "cell_type": "code",
   "execution_count": 1,
   "metadata": {},
   "outputs": [],
   "source": [
    "%load_ext autoreload\n",
    "%autoreload 2\n",
    "%matplotlib inline"
   ]
  },
  {
   "cell_type": "code",
   "execution_count": 2,
   "metadata": {},
   "outputs": [],
   "source": [
    "import numpy as np\n",
    "import pandas as pd\n",
    "import xarray as xr\n",
    "import yaml"
   ]
  },
  {
   "cell_type": "markdown",
   "metadata": {},
   "source": [
    "1. Float velocity (u1,v1, u2,v2) that you received in float files is in GEOMAGNETIC coordinate. The magnetic variation, magvar, (or called declination) is recorded in float's velocity raw data file.\n",
    "2. Float velocity (u1,v1,u2,v2) are relative to an unknown 'depth constant' velocity', called Vbarstar. Vbarstar can be a function of time, sediment conductivity (topography), etc.\n",
    "3. Vbarstar can be computed by comparing GPS positions (before descending and after ascending) derived velocity with the averaged velocity computed from (u1, v1, u2, v2).\n",
    "4. Cautions for GPS derived velocity:\n",
    "    * Use the right GPS clock time (there are several variables \n",
    "of time stamp in GPS file and they are slightly different). Check my \n",
    "vstar_fun.m for the right time.\n",
    "    * There is always a time gap between the GPS fix and EM-APEX float velocity. Float cannot get GPS when it is below surface. Also, it does not start sampling velocity immediately below the surface. It is crucial to take into account of this time gap. The best way is to extrapolate GPS positions forward in time to the time of the first velocity measurements. Similarly, for the ascending part of velocity and GPS position. GPS positions should be backward in time to the last float velocity measurements.\n",
    "    * The above extrapolation is done linearly.\n",
    "    * Difference between GPS positions divided by the time interval yields the averaged GPS velocity. This should be the real. ABSOLUTE average float velocity. THIS IS IN Geographical coordinate.\n",
    "    * Call them Ugps, Vgps\n",
    "4. Cautions for EM-APEX float velocity:\n",
    "    * These velocity (u1,v1,u2,v2) are in Geomagnetic coordinate.\n",
    "    * Use only the good quality data justified by verr1, verr2, RotP, W\n",
    "    * DON'T simply averaging the velocity (u1, v1, u2, v2), because as the float turns around at depths, it does not take velocity measurements, often O(10) minutes. This missing data could cause large error of Vbarstar if not taken into account carefully.\n",
    "    * Instead, integrating (u1, v1, u2, v2) with time, linearly interpolate over NaN, yields the total distance dX1, dY1, dX2, dY2. Dividing them by the time difference yields dX1/dt, dY1/dt, dX2/dt, dY2/dt. Call these U1, V1, U2, V2.\n",
    "    * Rotate them to Geographical coordinate using magvar, Uf1, \n",
    "Vf1, Uf2, Vf2.\n",
    "5. Ubarstar1 = Ugps - Uf1, Vbarstar2 = Vgps - Vf1.\\\n",
    "          Ubarstar2 = Ugps - UF2, Vbarstar2 = Vgps - Vf2\n",
    "\n",
    "6. Extra caution when floats are yoyoing at depths for a long period of missing GPS positions. I have an modified vstar_yoyo_fun.m to deal with it.\n",
    "7. For floats park at depth for a long long period of time without velocity measurements (floats need to profile to get velocity measurements), it would be challenging to compute Vbarstar."
   ]
  },
  {
   "cell_type": "code",
   "execution_count": null,
   "metadata": {},
   "outputs": [],
   "source": []
  }
 ],
 "metadata": {
  "kernelspec": {
   "display_name": "Python 3",
   "language": "python",
   "name": "python3"
  },
  "language_info": {
   "codemirror_mode": {
    "name": "ipython",
    "version": 3
   },
   "file_extension": ".py",
   "mimetype": "text/x-python",
   "name": "python",
   "nbconvert_exporter": "python",
   "pygments_lexer": "ipython3",
   "version": "3.8.3"
  }
 },
 "nbformat": 4,
 "nbformat_minor": 4
}
