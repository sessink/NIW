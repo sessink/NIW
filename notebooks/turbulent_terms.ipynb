{
 "cells": [
  {
   "cell_type": "markdown",
   "metadata": {},
   "source": [
    "# Evaluate the turbulent sink and source terms in the mixed layer\n",
    "\n",
    "$$\n",
    "\\frac{1}{2}\\frac{\\partial u'^2}{\\partial t} = \\epsilon - \\langle u'w'\\rangle\\frac{\\partial u}{\\partial z}-J_b + \\langle u'p'\\rangle + \\langle w'p'\\rangle\n",
    "$$\n",
    "where $\\langle u'w'\\rangle\\frac{\\partial u}{\\partial z}$ can be approximated with $u^{*3} (kz)^{-1}$. All of these terms have units of buoyancy flux [W/g]."
   ]
  },
  {
   "cell_type": "code",
   "execution_count": 279,
   "metadata": {},
   "outputs": [],
   "source": [
    "%matplotlib inline\n",
    "\n",
    "import sys\n",
    "sys.path.append('../src/')\n",
    "\n",
    "import glob\n",
    "import warnings\n",
    "\n",
    "import numpy as np\n",
    "import pandas as pd\n",
    "import xarray as xr\n",
    "\n",
    "from scipy.optimize import curve_fit, minimize\n",
    "\n",
    "# Plotting\n",
    "import matplotlib as mpl\n",
    "import matplotlib.pyplot as plt\n",
    "import seaborn as sns\n",
    "from cmocean import cm\n",
    "import hvplot.xarray\n",
    "\n",
    "from sklearn.linear_model import LinearRegression\n",
    "\n",
    "from epsilon_tools import *\n",
    "from tools import str2date, avg_funs\n",
    "\n",
    "import warnings\n",
    "warnings.simplefilter(\"ignore\",category=FutureWarning)\n",
    "warnings.simplefilter(\"ignore\",category=RuntimeWarning)\n",
    "\n",
    "# set up figure params\n",
    "sns.set(style='ticks', context='poster', palette='colorblind')\n",
    "mpl.rc('figure', dpi=100, figsize=[12, 6])\n",
    "mpl.rc('savefig', dpi=500, bbox='tight')\n",
    "mpl.rc('legend', frameon=False)"
   ]
  },
  {
   "cell_type": "markdown",
   "metadata": {},
   "source": [
    "## Compute Monin-Obhukov scale (from heat fluxes and winds only)\n",
    "\n",
    "Monin Obukho scale is defined as $$L \\equiv \\frac{-u^{*3}}{\\kappa B_0}$$\\\n",
    "with friction velocity $u^{*} = \\sqrt{\\frac{\\tau}{\\rho}}$,\\\n",
    "net buoyancy flux at the surface $B_0$,\\\n",
    "and van Karman constant $\\kappa = 0.4$.\n",
    "\n",
    "Since reanalysis heat flux $Q_{net}$ is in [W/m2], it needs to be converted to buoyancy flux in [W/kg] by $B_0 = -g \\alpha_T Q_{net}/(\\rho c_p)$."
   ]
  },
  {
   "cell_type": "code",
   "execution_count": 280,
   "metadata": {},
   "outputs": [],
   "source": [
    "dat = xr.open_dataset('../data/ml/ww_7781a_1h_2Tf.nc')\n",
    "met = xr.open_dataset('../data/xarray/qc_ww_7781a.nc')\n",
    "dat = dat.sel( time = slice('9-15-2016','12-10-2016') )\n",
    "met = met.sel( mettime = slice('9-15-2016','12-10-2016') )\n",
    "met = met.sel( time = slice('9-15-2016','12-10-2016') )\n",
    "emp = xr.open_dataset('../data/CFS/croppped_emp_field.nc')"
   ]
  },
  {
   "cell_type": "code",
   "execution_count": 281,
   "metadata": {},
   "outputs": [],
   "source": [
    "raw = xr.open_dataset('../data/xarray/xr_7781a.nc')"
   ]
  },
  {
   "cell_type": "code",
   "execution_count": 282,
   "metadata": {},
   "outputs": [],
   "source": [
    "met['S2'] = np.sqrt(met.dudz**2 + met.dvdz**2)"
   ]
  },
  {
   "cell_type": "code",
   "execution_count": 283,
   "metadata": {},
   "outputs": [],
   "source": [
    "# met.S2.plot()\n",
    "# met.S2.max(dim='z').plot(color='w')\n",
    "met['mld_new'] = ('time', met.z.where( met.S2 == met.S2.max(dim='z')).mean(dim='z').rolling(time=6, center=True).mean())"
   ]
  },
  {
   "cell_type": "code",
   "execution_count": 285,
   "metadata": {},
   "outputs": [
    {
     "ename": "AttributeError",
     "evalue": "'Dataset' object has no attribute 'eps'",
     "output_type": "error",
     "traceback": [
      "\u001b[0;31m---------------------------------------------------------------------------\u001b[0m",
      "\u001b[0;31mAttributeError\u001b[0m                            Traceback (most recent call last)",
      "\u001b[0;32m<ipython-input-285-7998c8732cb7>\u001b[0m in \u001b[0;36m<module>\u001b[0;34m\u001b[0m\n\u001b[1;32m      1\u001b[0m \u001b[0mmet\u001b[0m\u001b[0;34m[\u001b[0m\u001b[0;34m'S0'\u001b[0m\u001b[0;34m]\u001b[0m \u001b[0;34m=\u001b[0m \u001b[0;34m(\u001b[0m\u001b[0;34m'time'\u001b[0m\u001b[0;34m,\u001b[0m\u001b[0mmet\u001b[0m\u001b[0;34m.\u001b[0m\u001b[0mS\u001b[0m\u001b[0;34m.\u001b[0m\u001b[0mwhere\u001b[0m\u001b[0;34m(\u001b[0m\u001b[0mmet\u001b[0m\u001b[0;34m.\u001b[0m\u001b[0mz\u001b[0m\u001b[0;34m>\u001b[0m\u001b[0mmet\u001b[0m\u001b[0;34m.\u001b[0m\u001b[0mmld_new\u001b[0m\u001b[0;34m)\u001b[0m\u001b[0;34m.\u001b[0m\u001b[0mmean\u001b[0m\u001b[0;34m(\u001b[0m\u001b[0mdim\u001b[0m\u001b[0;34m=\u001b[0m\u001b[0;34m'z'\u001b[0m\u001b[0;34m)\u001b[0m\u001b[0;34m)\u001b[0m\u001b[0;34m\u001b[0m\u001b[0;34m\u001b[0m\u001b[0m\n\u001b[0;32m----> 2\u001b[0;31m \u001b[0mmet\u001b[0m\u001b[0;34m[\u001b[0m\u001b[0;34m'epz'\u001b[0m\u001b[0;34m]\u001b[0m \u001b[0;34m=\u001b[0m \u001b[0;34m(\u001b[0m\u001b[0;34m'time'\u001b[0m\u001b[0;34m,\u001b[0m\u001b[0mraw\u001b[0m\u001b[0;34m.\u001b[0m\u001b[0meps\u001b[0m\u001b[0;34m.\u001b[0m\u001b[0mwhere\u001b[0m\u001b[0;34m(\u001b[0m\u001b[0mmet\u001b[0m\u001b[0;34m.\u001b[0m\u001b[0mz\u001b[0m\u001b[0;34m>\u001b[0m\u001b[0mmet\u001b[0m\u001b[0;34m.\u001b[0m\u001b[0mmld_new\u001b[0m\u001b[0;34m)\u001b[0m\u001b[0;34m.\u001b[0m\u001b[0mmean\u001b[0m\u001b[0;34m(\u001b[0m\u001b[0mdim\u001b[0m\u001b[0;34m=\u001b[0m\u001b[0;34m'z'\u001b[0m\u001b[0;34m)\u001b[0m\u001b[0;34m)\u001b[0m\u001b[0;34m\u001b[0m\u001b[0;34m\u001b[0m\u001b[0m\n\u001b[0m",
      "\u001b[0;32m/usr/local/anaconda3/lib/python3.7/site-packages/xarray/core/common.py\u001b[0m in \u001b[0;36m__getattr__\u001b[0;34m(self, name)\u001b[0m\n\u001b[1;32m    231\u001b[0m                     \u001b[0;32mreturn\u001b[0m \u001b[0msource\u001b[0m\u001b[0;34m[\u001b[0m\u001b[0mname\u001b[0m\u001b[0;34m]\u001b[0m\u001b[0;34m\u001b[0m\u001b[0;34m\u001b[0m\u001b[0m\n\u001b[1;32m    232\u001b[0m         raise AttributeError(\n\u001b[0;32m--> 233\u001b[0;31m             \u001b[0;34m\"{!r} object has no attribute {!r}\"\u001b[0m\u001b[0;34m.\u001b[0m\u001b[0mformat\u001b[0m\u001b[0;34m(\u001b[0m\u001b[0mtype\u001b[0m\u001b[0;34m(\u001b[0m\u001b[0mself\u001b[0m\u001b[0;34m)\u001b[0m\u001b[0;34m.\u001b[0m\u001b[0m__name__\u001b[0m\u001b[0;34m,\u001b[0m \u001b[0mname\u001b[0m\u001b[0;34m)\u001b[0m\u001b[0;34m\u001b[0m\u001b[0;34m\u001b[0m\u001b[0m\n\u001b[0m\u001b[1;32m    234\u001b[0m         )\n\u001b[1;32m    235\u001b[0m \u001b[0;34m\u001b[0m\u001b[0m\n",
      "\u001b[0;31mAttributeError\u001b[0m: 'Dataset' object has no attribute 'eps'"
     ]
    }
   ],
   "source": [
    "met['S0'] = ('time',met.S.where(met.z>met.mld_new).mean(dim='z'))\n",
    "met['epz'] = ('time',raw.eps.where(met.z>met.mld_new).mean(dim='z'))"
   ]
  },
  {
   "cell_type": "code",
   "execution_count": null,
   "metadata": {},
   "outputs": [],
   "source": [
    "flot = xr.open_dataset('../data/xarray/qc_7781a.nc')\n",
    "import gsw\n",
    "cp = gsw.cp_t_exact(flot.isel(z=2).S.mean(),flot.isel(z=2).T.mean(),0)\n",
    "alphaT = gsw.alpha(flot.isel(z=2).S.mean(),flot.isel(z=2).T.mean(),0)\n",
    "betaS = gsw.beta(flot.isel(z=2).S.mean(),flot.isel(z=2).T.mean(),0)"
   ]
  },
  {
   "cell_type": "code",
   "execution_count": null,
   "metadata": {},
   "outputs": [],
   "source": [
    "rho0=1025\n",
    "g = 9.81\n",
    "met['tau'] = 0.5*np.sqrt( met.tx**2 + met.ty**2 )\n",
    "met['uprime'] = (np.sqrt( met.tau/rho0))**3\n",
    "\n",
    "met['mld_new'] = ('mettime', met.mld_new.dropna('time').interp(time=met.mettime) )\n",
    "met['mld'] = ('mettime', met.mld.dropna('time').interp(time=met.mettime) )\n",
    "met['S0'] = ('mettime', met.S0.dropna('time').interp(time=met.mettime) )\n",
    "met['epz'] = ('mettime', met.epz.dropna('time').interp(time=met.mettime) )\n",
    "met['lon'] = ('mettime', met.lon.dropna('time').interp(time=met.mettime) )\n",
    "met['lat'] = ('mettime', met.lat.dropna('time').interp(time=met.mettime) )"
   ]
  },
  {
   "cell_type": "code",
   "execution_count": null,
   "metadata": {},
   "outputs": [],
   "source": [
    "resample = emp.sortby('time').resample(time='1h').mean()"
   ]
  },
  {
   "cell_type": "code",
   "execution_count": null,
   "metadata": {},
   "outputs": [],
   "source": [
    "resample = resample.rename({'time':'mettime'})\n",
    "sub = resample.EMP.interp_like(met) # interpolates onto floats time"
   ]
  },
  {
   "cell_type": "code",
   "execution_count": null,
   "metadata": {},
   "outputs": [],
   "source": [
    "collect = []\n",
    "for t in sub.mettime:\n",
    "    temp1 = sub.sel(mettime=t)\n",
    "    temp2 = met.sel(mettime=t)\n",
    "    \n",
    "    if ~temp2.lon.isnull() & ~temp2.lat.isnull():\n",
    "        collect.append(temp1.interp(lon=temp2.lon,lat=temp2.lat))\n",
    "#     else:\n",
    "#         collect.append(np.nan)\n",
    "# sub.interp()"
   ]
  },
  {
   "cell_type": "code",
   "execution_count": null,
   "metadata": {},
   "outputs": [],
   "source": [
    "collect = xr.concat(collect,dim='mettime')\n",
    "met['emp'] = collect\n",
    "met['emp'] = met.emp/(100*86400)"
   ]
  },
  {
   "cell_type": "code",
   "execution_count": null,
   "metadata": {},
   "outputs": [],
   "source": [
    "met['BQ'] = g*alphaT*met.Qnet/(cp*rho0)\n",
    "met['BEP'] = g*betaS*met.emp*met.S0/(1-met.S0/1000)\n",
    "met['B'] = met.BQ + met.BEP\n",
    "met['MO'] = -met.uprime/(0.4*met.B)\n",
    "met['MO_MLD'] = met.MO/met.mld_new"
   ]
  },
  {
   "cell_type": "markdown",
   "metadata": {},
   "source": [
    "## Estimate how large the (E-P) contribution to Jb would be:\n",
    "\n",
    "The buoyancy flux in [W/kg] is given by\n",
    "$$\n",
    "B = \\frac{g\\alpha Q}{c_p\\rho} + \\frac{g\\beta(E-P)S}{1-\\frac{S}{1000}}\n",
    "$$\n",
    "where Q is the upward heat flux [Wm$^{-2}$], evaporation minus precipitation(E-P) in [m/s], S the surface salinity."
   ]
  },
  {
   "cell_type": "code",
   "execution_count": null,
   "metadata": {},
   "outputs": [],
   "source": [
    "f,ax = plt.subplots(1,2, figsize=(12,4))\n",
    "met.BQ.plot.hist(ax=ax[0],range=(-5e-7,5e-7), bins=20)\n",
    "met.BEP.plot.hist(range=(-6e-7,6e-7),ax=ax[1], bins=20);"
   ]
  },
  {
   "cell_type": "code",
   "execution_count": null,
   "metadata": {},
   "outputs": [],
   "source": [
    "f,ax=plt.subplots(4,1,sharex=True, figsize=(10,15))\n",
    "# met['uprime'].plot(ax=ax[0],lw=0,marker='.',ms=2)\n",
    "# ax[0].set_xlabel(None)\n",
    "# ax[0].set_ylabel(r'u*')\n",
    "# ax[0].set_ylim(0,2e-6)\n",
    "\n",
    "met['B'].plot(ax=ax[0],lw=0,marker='.',ms=2)\n",
    "ax[0].set_xlabel(None)\n",
    "ax[0].set_ylabel(r'B$_0$ [W kg$^{-1}$]')\n",
    "ax[0].set_ylim(-6e-7,6e-7)\n",
    "\n",
    "met['BQ'].plot(ax=ax[1],lw=0,marker='.',ms=2)\n",
    "ax[1].set_xlabel(None)\n",
    "ax[1].set_ylabel(r'B$_Q$ [W kg$^{-1}$]')\n",
    "ax[1].set_ylim(-6e-7,6e-7)\n",
    "\n",
    "met.BEP.plot(ax=ax[2],lw=0,marker='.',ms=2)\n",
    "ax[2].set_xlabel(None)\n",
    "ax[2].set_ylabel(r'B$_{E-P}$ [W kg$^{-1}$]');\n",
    "ax[2].set_ylim(-1e-7,1e-7);\n",
    "\n",
    "met['ratio'] = np.abs( met.BQ/met.BEP )\n",
    "met.ratio.plot(ax=ax[3],lw=0,marker='.',ms=2)\n",
    "ax[3].set_xlabel(None)\n",
    "ax[3].set_ylabel(r'B$_Q$/ B$_{E-P}$');\n",
    "ax[3].set_ylim(0,30);\n",
    "\n",
    "plt.savefig('../figures/buoyancy_fluxes.pdf')"
   ]
  },
  {
   "cell_type": "code",
   "execution_count": null,
   "metadata": {},
   "outputs": [],
   "source": [
    "f,ax=plt.subplots(4,1,sharex=True, figsize=(10,15))\n",
    "met['uprime'].plot(ax=ax[0],lw=0,marker='.',ms=2)\n",
    "ax[0].set_xlabel(None)\n",
    "ax[0].ticklabel_format(axis='y',style='sci',scilimits=(0,-7))\n",
    "ax[0].set_ylabel(r'u$^{*3}$ [m$^3$ s$^{-3}$]')\n",
    "ax[0].set_ylim(0,2e-6)\n",
    "\n",
    "met['B'].plot(ax=ax[1],lw=0,marker='.',ms=2)\n",
    "ax[1].set_xlabel(None)\n",
    "ax[1].set_ylabel(r'B$_0$ [W kg$^{-1}$]')\n",
    "# ax[0].ticklabel_format(axis='y',style='sci',scilimits=(-6,6))\n",
    "ax[1].set_ylim(-6e-7,6e-7)\n",
    "\n",
    "met.MO.plot(ax=ax[2],lw=0,marker='.',ms=2)\n",
    "ax[2].set_xlabel(None)\n",
    "ax[2].set_ylim(-40,40);\n",
    "ax[2].set_ylabel(r'z$_{MO}$ [m]')\n",
    "\n",
    "met.MO_MLD.plot(ax=ax[3],lw=0,marker='.',ms=2)\n",
    "ax[3].set_xlabel(None)\n",
    "ax[3].set_ylim(-1,1);\n",
    "ax[3].set_ylabel(r'z$_{MO}$/z$_{ML}$');\n",
    "\n",
    "plt.savefig('../figures/monin_obukhov.pdf')"
   ]
  },
  {
   "cell_type": "code",
   "execution_count": null,
   "metadata": {},
   "outputs": [],
   "source": [
    "f,ax=plt.subplots(3,1,sharex=True, figsize=(10,15))\n",
    "\n",
    "\n",
    "met['uprime_kz'] = met.uprime/(0.4*met.mld_new)\n",
    "met['uprime_kz'].dropna(dim='mettime').pipe(np.abs).pipe(np.log10).plot(ax=ax[0],lw=1,marker='.',ms=5)\n",
    "ax[0].set_xlabel(None)\n",
    "# ax[0].ticklabel_format(axis='y',style='sci',scilimits=(0,-7))\n",
    "ax[0].set_ylabel(r'u$^{*3} (\\kappa z_{MLD})^{-1}$'+'\\n'+r'[W kg$^{-1}$]')\n",
    "ax[0].set_ylim(-10,-6)\n",
    "# ax[1].set_ylim(-6e-7,6e-7)\n",
    "\n",
    "met.B.where(met.B>0).dropna(dim='mettime').pipe(np.abs).pipe(np.log10).plot(ax=ax[1],lw=1,marker='.',ms=5, color='r', label='B$_0$>0')\n",
    "met.B.where(met.B<0).dropna(dim='mettime').pipe(np.abs).pipe(np.log10).plot(ax=ax[1],lw=1,marker='.',ms=5, color='b', label='B$_0$<0')\n",
    "ax[1].set_xlabel(None)\n",
    "ax[1].set_ylabel(r'B$_0$ [W kg$^{-1}$]')\n",
    "# ax[0].ticklabel_format(axis='y',style='sci',scilimits=(-6,6))\n",
    "ax[1].set_ylim(-10,-6)\n",
    "ax[1].legend()\n",
    "\n",
    "met.epz.dropna(dim='mettime').pipe(np.abs).pipe(np.log10).plot(ax=ax[2],lw=1,marker='.',ms=5)\n",
    "# ax[2].ticklabel_format(axis='y',style='sci',scilimits=(0,-6))\n",
    "ax[2].set_xlabel(None)\n",
    "ax[2].set_ylim(-10,-6)\n",
    "ax[2].set_ylabel(r'$\\epsilon$ [W kg$^{-1}$]')\n",
    "\n",
    "\n",
    "plt.savefig('../figures/turbulent_terms.pdf')"
   ]
  },
  {
   "cell_type": "code",
   "execution_count": null,
   "metadata": {},
   "outputs": [],
   "source": [
    "f,ax = plt.subplots(1,1)\n",
    "ax.scatter(met['uprime_kz'],met['epz'],marker='+')\n",
    "ax.set_xscale('log')\n",
    "ax.set_yscale('log')\n",
    "\n",
    "ax.set_xlim(1e-12,1e-4)\n",
    "ax.set_ylim(1e-12,1e-4);"
   ]
  },
  {
   "cell_type": "code",
   "execution_count": null,
   "metadata": {},
   "outputs": [],
   "source": [
    "met['uprime_kz']"
   ]
  },
  {
   "cell_type": "code",
   "execution_count": null,
   "metadata": {},
   "outputs": [],
   "source": [
    "met['epz']"
   ]
  },
  {
   "cell_type": "code",
   "execution_count": null,
   "metadata": {},
   "outputs": [],
   "source": []
  }
 ],
 "metadata": {
  "kernelspec": {
   "display_name": "Python 3",
   "language": "python",
   "name": "python3"
  },
  "language_info": {
   "codemirror_mode": {
    "name": "ipython",
    "version": 3
   },
   "file_extension": ".py",
   "mimetype": "text/x-python",
   "name": "python",
   "nbconvert_exporter": "python",
   "pygments_lexer": "ipython3",
   "version": "3.7.3"
  }
 },
 "nbformat": 4,
 "nbformat_minor": 4
}
