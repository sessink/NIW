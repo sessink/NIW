{
 "cells": [
  {
   "cell_type": "markdown",
   "metadata": {},
   "source": [
    "### Compare epsilon to Lombardo&Gregg epsilon"
   ]
  },
  {
   "cell_type": "code",
   "execution_count": 2,
   "metadata": {},
   "outputs": [],
   "source": [
    "%matplotlib inline\n",
    "\n",
    "import sys\n",
    "sys.path.append('../src/')\n",
    "\n",
    "import glob\n",
    "import warnings\n",
    "\n",
    "import numpy as np\n",
    "import pandas as pd\n",
    "import xarray as xr\n",
    "\n",
    "from scipy.optimize import curve_fit, minimize\n",
    "\n",
    "# Plotting\n",
    "import matplotlib as mpl\n",
    "import matplotlib.pyplot as plt\n",
    "import seaborn as sns\n",
    "from cmocean import cm\n",
    "import hvplot.xarray\n",
    "\n",
    "from sklearn.linear_model import LinearRegression\n",
    "\n",
    "from epsilon_tools import *\n",
    "from tools import str2date, avg_funs\n",
    "\n",
    "import warnings\n",
    "warnings.simplefilter(\"ignore\",category=FutureWarning)\n",
    "warnings.simplefilter(\"ignore\",category=RuntimeWarning)\n",
    "\n",
    "# set up figure params\n",
    "sns.set(style='ticks', context='poster', palette='colorblind')\n",
    "mpl.rc('figure', dpi=100, figsize=[12, 6])\n",
    "mpl.rc('savefig', dpi=500, bbox='tight')\n",
    "mpl.rc('legend', frameon=False)"
   ]
  },
  {
   "cell_type": "markdown",
   "metadata": {},
   "source": [
    "### data wrangling"
   ]
  },
  {
   "cell_type": "code",
   "execution_count": 3,
   "metadata": {},
   "outputs": [],
   "source": [
    "dat = xr.open_dataset('../data/ml/ww_7781a_1h_2Tf.nc')\n",
    "met = xr.open_dataset('../data/xarray/qc_ww_7781a.nc')\n",
    "dat = dat.sel( time = slice('9-15-2016','12-10-2016') )\n",
    "met = met.sel( mettime = slice('9-15-2016','12-10-2016') )\n",
    "met = met.sel( time = slice('9-15-2016','12-10-2016') )\n",
    "emp = xr.open_dataset('../data/CFS/croppped_emp_field.nc')"
   ]
  },
  {
   "cell_type": "code",
   "execution_count": 4,
   "metadata": {},
   "outputs": [],
   "source": [
    "met['S2'] = np.sqrt(met.dudz**2 + met.dvdz**2)"
   ]
  },
  {
   "cell_type": "code",
   "execution_count": 5,
   "metadata": {},
   "outputs": [],
   "source": [
    "# met.S2.plot()\n",
    "# met.S2.max(dim='z').plot(color='w')\n",
    "met['mld_new'] = ('time', met.z.where( met.S2 == met.S2.max(dim='z')).mean(dim='z').rolling(time=6, center=True).mean())"
   ]
  },
  {
   "cell_type": "code",
   "execution_count": 6,
   "metadata": {},
   "outputs": [],
   "source": [
    "met['S0'] = ('time',met.S.where(met.z>met.mld_new).mean(dim='z'))\n",
    "met['epz'] = ('time',met.eps.where(met.z>met.mld_new).mean(dim='z'))"
   ]
  },
  {
   "cell_type": "code",
   "execution_count": 7,
   "metadata": {},
   "outputs": [],
   "source": [
    "flot = xr.open_dataset('../data/xarray/qc_7781a.nc')\n",
    "import gsw\n",
    "cp = gsw.cp_t_exact(flot.isel(z=2).S.mean(),flot.isel(z=2).T.mean(),0)\n",
    "alphaT = gsw.alpha(flot.isel(z=2).S.mean(),flot.isel(z=2).T.mean(),0)\n",
    "betaS = gsw.beta(flot.isel(z=2).S.mean(),flot.isel(z=2).T.mean(),0)"
   ]
  },
  {
   "cell_type": "code",
   "execution_count": 8,
   "metadata": {},
   "outputs": [],
   "source": [
    "rho0=1025\n",
    "g = 9.81\n",
    "met['tau'] = 0.5*np.sqrt( met.tx**2 + met.ty**2 )\n",
    "met['uprime'] = (np.sqrt( met.tau/rho0))**3\n",
    "\n",
    "met['mld_new'] = ('mettime', met.mld_new.dropna('time').interp(time=met.mettime) )\n",
    "met['mld'] = ('mettime', met.mld.dropna('time').interp(time=met.mettime) )\n",
    "met['S0'] = ('mettime', met.S0.dropna('time').interp(time=met.mettime) )\n",
    "met['epz'] = ('mettime', met.epz.dropna('time').interp(time=met.mettime) )\n",
    "met['lon'] = ('mettime', met.lon.dropna('time').interp(time=met.mettime) )\n",
    "met['lat'] = ('mettime', met.lat.dropna('time').interp(time=met.mettime) )"
   ]
  },
  {
   "cell_type": "code",
   "execution_count": 9,
   "metadata": {},
   "outputs": [],
   "source": [
    "resample = emp.sortby('time').resample(time='1h').mean()"
   ]
  },
  {
   "cell_type": "code",
   "execution_count": 10,
   "metadata": {},
   "outputs": [],
   "source": [
    "resample = resample.rename({'time':'mettime'})\n",
    "sub = resample.EMP.interp_like(met) # interpolates onto floats time"
   ]
  },
  {
   "cell_type": "code",
   "execution_count": 11,
   "metadata": {},
   "outputs": [],
   "source": [
    "collect = []\n",
    "for t in sub.mettime:\n",
    "    temp1 = sub.sel(mettime=t)\n",
    "    temp2 = met.sel(mettime=t)\n",
    "    \n",
    "    if ~temp2.lon.isnull() & ~temp2.lat.isnull():\n",
    "        collect.append(temp1.interp(lon=temp2.lon,lat=temp2.lat))\n",
    "#     else:\n",
    "#         collect.append(np.nan)\n",
    "# sub.interp()"
   ]
  },
  {
   "cell_type": "code",
   "execution_count": 12,
   "metadata": {},
   "outputs": [],
   "source": [
    "collect = xr.concat(collect,dim='mettime')\n",
    "met['emp'] = collect\n",
    "met['emp'] = met.emp/(100*86400)"
   ]
  },
  {
   "cell_type": "code",
   "execution_count": 13,
   "metadata": {},
   "outputs": [],
   "source": [
    "met['BQ'] = g*alphaT*met.Qnet/(cp*rho0)\n",
    "met['BEP'] = g*betaS*met.emp*met.S0/(1-met.S0/1000)\n",
    "met['B'] = met.BQ + met.BEP\n",
    "met['MO'] = -met.uprime/(0.4*met.B)\n",
    "met['MO_MLD'] = met.MO/met.mld_new\n",
    "met['uprime_kz'] = met.uprime/(0.4*met.mld_new)"
   ]
  },
  {
   "cell_type": "markdown",
   "metadata": {},
   "source": [
    "### compare L&G prediction to measured $\\epsilon$"
   ]
  },
  {
   "cell_type": "markdown",
   "metadata": {},
   "source": [
    "Lombardo & Gregg scaling:\n",
    "\n",
    "If $0 < -z \\ll -L $,\n",
    "$$\n",
    "\\epsilon_s = \\frac{u^{*3}}{\\kappa z}.\n",
    "$$\n",
    "If $-L \\ll -z \\ll D$,\n",
    "$$\n",
    "\\epsilon_f = J_b^0.\n",
    "$$\n",
    "If $-L \\ll -z < D$,\n",
    "$$\n",
    "\\epsilon_{ML} = J_b^0.\n",
    "$$"
   ]
  },
  {
   "cell_type": "code",
   "execution_count": null,
   "metadata": {},
   "outputs": [],
   "source": []
  }
 ],
 "metadata": {
  "kernelspec": {
   "display_name": "Python 3",
   "language": "python",
   "name": "python3"
  },
  "language_info": {
   "codemirror_mode": {
    "name": "ipython",
    "version": 3
   },
   "file_extension": ".py",
   "mimetype": "text/x-python",
   "name": "python",
   "nbconvert_exporter": "python",
   "pygments_lexer": "ipython3",
   "version": "3.7.3"
  }
 },
 "nbformat": 4,
 "nbformat_minor": 4
}
